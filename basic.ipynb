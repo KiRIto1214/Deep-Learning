{
 "cells": [
  {
   "cell_type": "code",
   "execution_count": 3,
   "metadata": {},
   "outputs": [],
   "source": [
    "import numpy"
   ]
  },
  {
   "cell_type": "code",
   "execution_count": 1,
   "metadata": {},
   "outputs": [
    {
     "name": "stdout",
     "output_type": "stream",
     "text": [
      "hi\n"
     ]
    }
   ],
   "source": [
    "print(\"hi\")"
   ]
  },
  {
   "cell_type": "code",
   "execution_count": 2,
   "metadata": {},
   "outputs": [],
   "source": [
    "X = [1,2,3,4,5,6,7,8,9]\n",
    "Y = [2,4,6,8,10,12,14,16,18]\n",
    "\n"
   ]
  },
  {
   "cell_type": "code",
   "execution_count": 66,
   "metadata": {},
   "outputs": [],
   "source": [
    "w = 1\n",
    "\n",
    "def forward(x):\n",
    "\n",
    "    return w*x \n",
    "\n",
    "def loss(x,y):\n",
    "\n",
    "    y_pred = forward(x)\n",
    "\n",
    "    return (y_pred - y)**2\n",
    "\n",
    "\n"
   ]
  },
  {
   "cell_type": "code",
   "execution_count": 67,
   "metadata": {},
   "outputs": [],
   "source": [
    "# loss = (w*x - y)**2\n",
    "# d(loss)/dw = 2*(x)*(w*x - y)\n",
    "\n",
    "def gradient(x,y):\n",
    "\n",
    "    return 2*x*(w*x - y)\n",
    "    \n",
    "\n"
   ]
  },
  {
   "cell_type": "code",
   "execution_count": 68,
   "metadata": {},
   "outputs": [
    {
     "name": "stdout",
     "output_type": "stream",
     "text": [
      "predict (before) training 14 14\n",
      " Epoch number 0 / Loss : 4.836975186728735e-06 / Updated Weight:1.999755631951667 \n",
      " Epoch number 1 / Loss : 2.888435694776287e-13 / Updated Weight:1.9999999402842568 \n",
      " Epoch number 2 / Loss : 1.72493338306811e-20 / Updated Weight:1.9999999999854072 \n",
      " Epoch number 3 / Loss : 1.2621774483536189e-27 / Updated Weight:1.9999999999999962 \n",
      " Epoch number 4 / Loss : 0.0 / Updated Weight:2.0 \n",
      " Epoch number 5 / Loss : 0.0 / Updated Weight:2.0 \n",
      " Epoch number 6 / Loss : 0.0 / Updated Weight:2.0 \n",
      " Epoch number 7 / Loss : 0.0 / Updated Weight:2.0 \n",
      " Epoch number 8 / Loss : 0.0 / Updated Weight:2.0 \n",
      " Epoch number 9 / Loss : 0.0 / Updated Weight:2.0 \n"
     ]
    }
   ],
   "source": [
    "epoch = 10\n",
    "lr = 0.01\n",
    "\n",
    "print(\"predict (before) training 14\",forward(14))\n",
    "\n",
    "for i in range(epoch):\n",
    "\n",
    "    for x,y in zip(X,Y):\n",
    "\n",
    "\n",
    "        delw = gradient(x,y)\n",
    "        w = w - lr*delw\n",
    "        # pred = forward(x)\n",
    "\n",
    "        los = loss(x,y)\n",
    "        \n",
    "    print(f' Epoch number {i} / Loss : {los} / Updated Weight:{w} ')"
   ]
  },
  {
   "cell_type": "code",
   "execution_count": 69,
   "metadata": {},
   "outputs": [
    {
     "name": "stdout",
     "output_type": "stream",
     "text": [
      "predict (after) training 14 28.0\n"
     ]
    }
   ],
   "source": [
    "print(\"predict (after) training 14\",forward(14))"
   ]
  },
  {
   "cell_type": "code",
   "execution_count": 76,
   "metadata": {},
   "outputs": [],
   "source": [
    "''''testing different pred\n",
    "y = x^2*w2 + x*w1 + b\n",
    "loss = (ypred - y)^2\n",
    "\n",
    "d loss / d w1 and d loss / d w2\n",
    "\n",
    "'''\n",
    "X = [1, 2, 3, 4, 5, 6, 7, 8, 9, 10]\n",
    "Y = [1, 4, 9, 16, 25, 36, 49, 64, 81, 100]\n",
    "\n",
    "\n",
    "w1 = .01\n",
    "w2 = .01\n",
    "b =  .01\n",
    "lr = 0.0001\n",
    "\n",
    "def polyfor(x):\n",
    "\n",
    "    y = w1*(x**2) + w2*x + b\n",
    "\n",
    "    return y\n",
    "\n",
    "\n",
    "def grad(x,y):\n",
    "\n",
    "    pred = polyfor(x)\n",
    "\n",
    "\n",
    "\n",
    "    gw1 = 2*(x**2)*(pred - y)\n",
    "\n",
    "    gw2 = 2*(x)*(pred - y)\n",
    "\n",
    "    gb = 2*(pred - y)\n",
    "\n",
    "\n",
    "    return gw1,gw2,gb\n",
    "\n",
    "\n",
    "\n",
    "def los2(x,y):\n",
    "\n",
    "    pred = polyfor(x)\n",
    "\n",
    "    return (pred - y)**2\n",
    "\n"
   ]
  },
  {
   "cell_type": "code",
   "execution_count": 77,
   "metadata": {},
   "outputs": [
    {
     "name": "stdout",
     "output_type": "stream",
     "text": [
      " Prediction(before training) for 14 2.11\n",
      "Loss: 2.3946384220942774 / W1: 0.9675919585859047 / W2: 0.1625762433926764 / bias: 0.03632104738843872 \n",
      "Loss: 0.005232799455414447 / W1: 0.983933855278358 / W2: 0.16439650442270587 / bias: 0.036448748698934254 \n",
      "Loss: 0.009874430757715097 / W1: 0.9842864641560016 / W2: 0.16365978917048535 / bias: 0.0361331404979923 \n",
      "Loss: 0.00987012984117317 / W1: 0.9843670856589163 / W2: 0.16288351740489115 / bias: 0.035811627428607495 \n",
      "Loss: 0.0097752288215803 / W1: 0.9844427096836271 / W2: 0.16211043261819053 / bias: 0.035491631404077545 \n",
      "Loss: 0.00967973427281338 / W1: 0.9845178734660738 / W2: 0.1613412413602714 / bias: 0.03517327031209785 \n",
      "Loss: 0.009585161964541521 / W1: 0.9845926559793273 / W2: 0.16057593620314317 / bias: 0.03485653800915624 \n",
      "Loss: 0.00949152818860223 / W1: 0.9846670604548482 / W2: 0.15981449768888933 / bias: 0.03454142628606358 \n",
      "Loss: 0.009398823982816149 / W1: 0.9847410888279143 / W2: 0.1590569062530785 / bias: 0.03422792693955956 \n",
      "Loss: 0.009307040051009841 / W1: 0.9848147430022722 / W2: 0.1583031424268116 / bias: 0.03391603180729523 \n"
     ]
    }
   ],
   "source": [
    "print(' Prediction(before training) for 14', polyfor(14))\n",
    "\n",
    "for i in range(epoch):\n",
    "\n",
    "    for x,y in zip(X,Y):\n",
    "\n",
    "        pred = polyfor(x)\n",
    "\n",
    "        gw1,gw2,gb = grad(x,y)\n",
    "\n",
    "        l = los2(x,y)\n",
    "\n",
    "        w1 = w1 - lr*gw1 \n",
    "        w2 = w2 - lr*gw2\n",
    "\n",
    "        b =  b - lr*gb\n",
    "    \n",
    "    print(f'Loss: {l} / W1: {w1} / W2: {w2} / bias: {b} ')\n",
    "\n"
   ]
  },
  {
   "cell_type": "code",
   "execution_count": 78,
   "metadata": {},
   "outputs": [
    {
     "name": "stdout",
     "output_type": "stream",
     "text": [
      " Prediction(after training) for 14 195.27384965422803\n"
     ]
    }
   ],
   "source": [
    "print(' Prediction(after training) for 14', polyfor(14))\n"
   ]
  },
  {
   "cell_type": "markdown",
   "metadata": {},
   "source": [
    "The output is so sensitive for learning rate"
   ]
  }
 ],
 "metadata": {
  "kernelspec": {
   "display_name": "Python 3",
   "language": "python",
   "name": "python3"
  },
  "language_info": {
   "codemirror_mode": {
    "name": "ipython",
    "version": 3
   },
   "file_extension": ".py",
   "mimetype": "text/x-python",
   "name": "python",
   "nbconvert_exporter": "python",
   "pygments_lexer": "ipython3",
   "version": "3.9.2"
  }
 },
 "nbformat": 4,
 "nbformat_minor": 2
}
